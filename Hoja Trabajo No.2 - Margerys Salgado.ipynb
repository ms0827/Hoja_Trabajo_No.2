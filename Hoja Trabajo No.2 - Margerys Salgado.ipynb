{
 "cells": [
  {
   "cell_type": "markdown",
   "metadata": {},
   "source": [
    "# Hoja de Trabajo No.2: Sintaxis, Listas y Tuplas\n",
    "==================================================================================    "
   ]
  },
  {
   "cell_type": "markdown",
   "metadata": {},
   "source": [
    "Elaborada por: Margerys Salgado  \n",
    "Carnet No.: 21006394"
   ]
  },
  {
   "cell_type": "markdown",
   "metadata": {},
   "source": [
    "## Parte #1 - (Programacion y Sintaxis)\n",
    "A continuación, se le muestran una lista de ejercicios que debería completar utilizando Python, debe usar Markdown para indicar donde inicia cada uno de los ejercicios.\n"
   ]
  },
  {
   "cell_type": "markdown",
   "metadata": {},
   "source": [
    "##### Ejercicio No.1"
   ]
  },
  {
   "cell_type": "markdown",
   "metadata": {},
   "source": [
    "Haga un programa en Python que reciba de parámetro un número de segundos y que despliegue en pantalla, las horas, minutos y segundos que representan."
   ]
  },
  {
   "cell_type": "code",
   "execution_count": 549,
   "metadata": {},
   "outputs": [
    {
     "name": "stdout",
     "output_type": "stream",
     "text": [
      "Por favor introduce un número que desea convertir: 5871\n",
      "Horas:1, Minutos:37, Segundos:51\n"
     ]
    }
   ],
   "source": [
    "num = int(input(\"Por favor introduce un número que desea convertir: \"))\n",
    "\n",
    "horas = num // 3600\n",
    "minutos = (num - (horas*3600))//60\n",
    "segundos = num - ((horas*3600) + (minutos*60))\n",
    "\n",
    "print('Horas:{}, Minutos:{}, Segundos:{}'. format(horas, minutos, segundos))\n"
   ]
  },
  {
   "cell_type": "markdown",
   "metadata": {},
   "source": [
    "##### Ejercicio No.2"
   ]
  },
  {
   "cell_type": "markdown",
   "metadata": {},
   "source": [
    "Haga una función en Python que dado un numero entre '1' y '20'; y un carácter cualquiera despliegue cuatro patrones triangulares."
   ]
  },
  {
   "cell_type": "code",
   "execution_count": 1,
   "metadata": {},
   "outputs": [
    {
     "name": "stdout",
     "output_type": "stream",
     "text": [
      "Ingrese un numero entre 1 y 20 :4\n",
      "Ingrese un caracter :*\n",
      "*     ****     ****     *\n",
      "**     ***     ***     **\n",
      "***     **     **     ***\n",
      "****     *     *     ****\n"
     ]
    }
   ],
   "source": [
    "num = int(input(\"Ingrese un numero entre 1 y 20 :\"))\n",
    "char = input(\"Ingrese un caracter :\")\n",
    "\n",
    "if (num <= 0 or num > 20):\n",
    "    print(\"El numero ingresado debe de ser mayor a 0 y menor o igual a 20\")\n",
    "    quit()\n",
    "else:\n",
    "    x = 1\n",
    "    while(x <= num):\n",
    "        print(char * x + \" \" * (num+1) + char * (num+1-x)+ \" \" * (num+1) + char * (num+1-x)+ \" \" *(num+1) + char*x)\n",
    "        x = x + 1\n"
   ]
  },
  {
   "cell_type": "markdown",
   "metadata": {},
   "source": [
    "##### Ejercicio No.3"
   ]
  },
  {
   "cell_type": "markdown",
   "metadata": {},
   "source": [
    "Haga un programa en Python que la fecha de nacimiento de una persona (puede ingresar por separado cada valor, es decir pedir primero día, luego mes y luego ano), despliegue la edad de la persona en anos, meses y días."
   ]
  },
  {
   "cell_type": "code",
   "execution_count": 552,
   "metadata": {},
   "outputs": [],
   "source": [
    "from datetime import date"
   ]
  },
  {
   "cell_type": "code",
   "execution_count": 560,
   "metadata": {},
   "outputs": [
    {
     "name": "stdout",
     "output_type": "stream",
     "text": [
      "Ingrese dia de nacimiento: 14\n",
      "Ingrese mes de nacimiento, en numero: 12\n",
      "Ingrese año de nacimiento: 1982\n",
      "Tu edad es 38 años, 2 meses, 6 dias\n"
     ]
    }
   ],
   "source": [
    "dia_nac = int(input(\"Ingrese dia de nacimiento: \"))\n",
    "mes_nac = int(input(\"Ingrese mes de nacimiento, en numero: \"))\n",
    "año_nac = int(input(\"Ingrese año de nacimiento: \"))\n",
    "\n",
    "dia_hoy =  date.today().day\n",
    "mes_hoy =  date.today().month\n",
    "año_hoy = date.today().year\n",
    "\n",
    "dia_edad = dia_hoy - dia_nac\n",
    "mes_edad = 12 - (mes_nac - mes_hoy)\n",
    "año_edad = (año_hoy - año_nac) -1\n",
    "\n",
    "print(\"Tu edad es\", año_edad, \"años,\", mes_edad, \"meses,\", dia_edad, \"dias\")\n"
   ]
  },
  {
   "cell_type": "markdown",
   "metadata": {},
   "source": [
    "## Parte #2 - (Estructura de Datos)\n",
    "Resuelva los siguientes ejercicios sobre estructuras de datos\n",
    "en Python.\n"
   ]
  },
  {
   "cell_type": "markdown",
   "metadata": {},
   "source": [
    "##### Ejercicio No.1"
   ]
  },
  {
   "cell_type": "markdown",
   "metadata": {},
   "source": [
    "Escriba una función en Python que dada una tupla de elementos (números o letras) esta se convierta a un string."
   ]
  },
  {
   "cell_type": "markdown",
   "metadata": {},
   "source": [
    "__Construcción del ejercicio__  "
   ]
  },
  {
   "cell_type": "code",
   "execution_count": 1,
   "metadata": {},
   "outputs": [],
   "source": [
    "eje_1 = ('10', '20', '40', '5', '70') #ejercicio"
   ]
  },
  {
   "cell_type": "code",
   "execution_count": 130,
   "metadata": {},
   "outputs": [
    {
     "data": {
      "text/plain": [
       "tuple"
      ]
     },
     "execution_count": 130,
     "metadata": {},
     "output_type": "execute_result"
    }
   ],
   "source": [
    "type(eje_1) #comprobacion que es una tupla"
   ]
  },
  {
   "cell_type": "code",
   "execution_count": 107,
   "metadata": {},
   "outputs": [
    {
     "name": "stdout",
     "output_type": "stream",
     "text": [
      "5\n"
     ]
    }
   ],
   "source": [
    "print(len(eje_1)) #para comprobar el tamaño de la Tupla"
   ]
  },
  {
   "cell_type": "code",
   "execution_count": 109,
   "metadata": {},
   "outputs": [],
   "source": [
    "eje_str = ''.join(eje_1) #la función Join: se utiliza cuando se desea convertir una lista o tuple en cadena de caracteres"
   ]
  },
  {
   "cell_type": "code",
   "execution_count": 110,
   "metadata": {},
   "outputs": [
    {
     "name": "stdout",
     "output_type": "stream",
     "text": [
      "102040570\n"
     ]
    }
   ],
   "source": [
    "print(eje_str) #conversion de la Tupla a string"
   ]
  },
  {
   "cell_type": "code",
   "execution_count": 111,
   "metadata": {},
   "outputs": [
    {
     "data": {
      "text/plain": [
       "str"
      ]
     },
     "execution_count": 111,
     "metadata": {},
     "output_type": "execute_result"
    }
   ],
   "source": [
    "type(eje_str) #comprobacion que la Tupla se convirtio en string"
   ]
  },
  {
   "cell_type": "code",
   "execution_count": 112,
   "metadata": {},
   "outputs": [
    {
     "name": "stdout",
     "output_type": "stream",
     "text": [
      "9\n"
     ]
    }
   ],
   "source": [
    "print(len(eje_str)) #el tamaño del Tupla/string cambio"
   ]
  },
  {
   "cell_type": "markdown",
   "metadata": {},
   "source": [
    "__Construcción de programa en Python__  "
   ]
  },
  {
   "cell_type": "code",
   "execution_count": 8,
   "metadata": {},
   "outputs": [
    {
     "name": "stdout",
     "output_type": "stream",
     "text": [
      "Convertidor de Tuplas a String\n",
      "Ingrese los números que componen la tupla, separarlos con coma: 10,20,30,40\n",
      "<class 'tuple'>\n",
      "Su nuevo estring es:  10,20,30,40\n",
      "<class 'str'>\n"
     ]
    }
   ],
   "source": [
    "print(\"Convertidor de Tuplas a String\")\n",
    "tupla = input(\"Ingrese los números que componen la tupla, separarlos con coma: \")\n",
    "tupla = tuple(tupla)\n",
    "print(type(tupla))\n",
    "tupla2 = ''.join(tupla)\n",
    "print(\"Su nuevo estring es: \", tupla2)\n",
    "print(type(tupla2))\n"
   ]
  },
  {
   "cell_type": "markdown",
   "metadata": {},
   "source": [
    "__Construcción de función en Python__  "
   ]
  },
  {
   "cell_type": "code",
   "execution_count": 21,
   "metadata": {},
   "outputs": [],
   "source": [
    "import functools \n",
    "import operator  \n",
    "\n",
    "#Funcion\n",
    "  \n",
    "def convertidor_Tupla(tupla): \n",
    "    str = functools.reduce(operator.add, (tupla)) \n",
    "    return str \n"
   ]
  },
  {
   "cell_type": "code",
   "execution_count": 22,
   "metadata": {},
   "outputs": [
    {
     "name": "stdout",
     "output_type": "stream",
     "text": [
      "102040570\n"
     ]
    }
   ],
   "source": [
    "#Comprobacion\n",
    "\n",
    "tupla = ('10', '20', '40', '5', '70') \n",
    "\n",
    "str = convertidor_Tupla(tupla) \n",
    "print(str) "
   ]
  },
  {
   "cell_type": "markdown",
   "metadata": {},
   "source": [
    "##### Ejercicio No.2"
   ]
  },
  {
   "cell_type": "markdown",
   "metadata": {},
   "source": [
    "Cree un programa en Python que dada una lista de tuplas, elimine las tuplas que estan vacias"
   ]
  },
  {
   "cell_type": "markdown",
   "metadata": {},
   "source": [
    "__Construcción del ejercicio__  "
   ]
  },
  {
   "cell_type": "code",
   "execution_count": 9,
   "metadata": {},
   "outputs": [],
   "source": [
    "eje_2 = ((), (), ('x', ), ('a', 'b'), ('a', 'b', 'c'), ('d'))"
   ]
  },
  {
   "cell_type": "code",
   "execution_count": 10,
   "metadata": {},
   "outputs": [
    {
     "name": "stdout",
     "output_type": "stream",
     "text": [
      "6\n"
     ]
    }
   ],
   "source": [
    "type(eje_2)\n",
    "print(len(eje_2))"
   ]
  },
  {
   "cell_type": "code",
   "execution_count": 11,
   "metadata": {},
   "outputs": [],
   "source": [
    "eje_2 = [t for t in eje_2 if t ]"
   ]
  },
  {
   "cell_type": "code",
   "execution_count": 12,
   "metadata": {},
   "outputs": [
    {
     "name": "stdout",
     "output_type": "stream",
     "text": [
      "[('x',), ('a', 'b'), ('a', 'b', 'c'), 'd']\n"
     ]
    }
   ],
   "source": [
    "print(eje_2)"
   ]
  },
  {
   "cell_type": "code",
   "execution_count": 13,
   "metadata": {},
   "outputs": [
    {
     "name": "stdout",
     "output_type": "stream",
     "text": [
      "4\n"
     ]
    }
   ],
   "source": [
    "print(len(eje_2))"
   ]
  },
  {
   "cell_type": "markdown",
   "metadata": {},
   "source": [
    "__Construcción de función en Python__  "
   ]
  },
  {
   "cell_type": "code",
   "execution_count": 23,
   "metadata": {},
   "outputs": [],
   "source": [
    "#Funcion\n",
    "\n",
    "def limpiar_Tupla(tupl):\n",
    "    tupl2 = [t for t in tupl if t] \n",
    "    return tupl2\n"
   ]
  },
  {
   "cell_type": "code",
   "execution_count": 24,
   "metadata": {},
   "outputs": [
    {
     "name": "stdout",
     "output_type": "stream",
     "text": [
      "[('x',), ('a', 'b'), ('a', 'b', 'c'), 'd']\n"
     ]
    }
   ],
   "source": [
    "#Comprobacion\n",
    "\n",
    "tupl = ((), (), ('x', ), ('a', 'b'), ('a', 'b', 'c'), ('d'))\n",
    "\n",
    "tupl2 = limpiar_Tupla(tupl) \n",
    "print(tupl2)"
   ]
  },
  {
   "cell_type": "markdown",
   "metadata": {},
   "source": [
    "##### Ejercicio No.3"
   ]
  },
  {
   "cell_type": "markdown",
   "metadata": {},
   "source": [
    "Cree una funcion en Python que dada una tupla de tuplas con numeros, produzca una tupla con el promedio de cada tupla individual"
   ]
  },
  {
   "cell_type": "markdown",
   "metadata": {},
   "source": [
    "__Construcción del ejercicio__  "
   ]
  },
  {
   "cell_type": "code",
   "execution_count": 92,
   "metadata": {},
   "outputs": [],
   "source": [
    "eje_3 = ((10, 10, 10, 12), (30, 45, 56, 45), (81, 80, 39, 32))"
   ]
  },
  {
   "cell_type": "code",
   "execution_count": 93,
   "metadata": {},
   "outputs": [
    {
     "data": {
      "text/plain": [
       "tuple"
      ]
     },
     "execution_count": 93,
     "metadata": {},
     "output_type": "execute_result"
    }
   ],
   "source": [
    "type(eje_3)"
   ]
  },
  {
   "cell_type": "code",
   "execution_count": 94,
   "metadata": {},
   "outputs": [
    {
     "name": "stdout",
     "output_type": "stream",
     "text": [
      "3\n"
     ]
    }
   ],
   "source": [
    "print(len(eje_3))"
   ]
  },
  {
   "cell_type": "code",
   "execution_count": 90,
   "metadata": {},
   "outputs": [],
   "source": [
    "eje_tupla = eje_3 + ((int(10+10+10+12)/4), ) + ((int(30+45+56+45)/4), ) + ((int(81+80+39+32)/4), )"
   ]
  },
  {
   "cell_type": "code",
   "execution_count": 91,
   "metadata": {},
   "outputs": [
    {
     "name": "stdout",
     "output_type": "stream",
     "text": [
      "((10, 10, 10, 12), (30, 45, 56, 45), (81, 80, 39, 32), 10.5, 44.0, 58.0)\n"
     ]
    }
   ],
   "source": [
    "print(eje_tupla)"
   ]
  },
  {
   "cell_type": "code",
   "execution_count": 138,
   "metadata": {},
   "outputs": [
    {
     "data": {
      "text/plain": [
       "tuple"
      ]
     },
     "execution_count": 138,
     "metadata": {},
     "output_type": "execute_result"
    }
   ],
   "source": [
    "type(eje_tupla)"
   ]
  },
  {
   "cell_type": "markdown",
   "metadata": {},
   "source": [
    "__Construcción de función en Python__  "
   ]
  },
  {
   "cell_type": "code",
   "execution_count": 15,
   "metadata": {},
   "outputs": [],
   "source": [
    "eje3 = ((10, 10, 10, 12), (30, 45, 56, 45), (81, 80, 39, 32))"
   ]
  },
  {
   "cell_type": "code",
   "execution_count": 16,
   "metadata": {},
   "outputs": [
    {
     "name": "stdout",
     "output_type": "stream",
     "text": [
      "<class 'tuple'>\n"
     ]
    },
    {
     "data": {
      "text/plain": [
       "(10.5, 44.0, 58.0)"
      ]
     },
     "execution_count": 16,
     "metadata": {},
     "output_type": "execute_result"
    }
   ],
   "source": [
    "tup_total = []\n",
    "tup_index = 0\n",
    "\n",
    "for sub in eje3:\n",
    "    sum = 0\n",
    "    for i in eje3[tup_index]:\n",
    "        sum = sum + i\n",
    "    tup_media = sum/len(eje3[tup_index])\n",
    "    tup_total.append(tup_media)\n",
    "    tup_index = tup_index + 1\n",
    "   \n",
    "tup_total = tuple(tup_total)\n",
    "print(type(tup_total))\n",
    "tup_total\n"
   ]
  },
  {
   "cell_type": "code",
   "execution_count": null,
   "metadata": {},
   "outputs": [],
   "source": []
  }
 ],
 "metadata": {
  "kernelspec": {
   "display_name": "Python 3",
   "language": "python",
   "name": "python3"
  },
  "language_info": {
   "codemirror_mode": {
    "name": "ipython",
    "version": 3
   },
   "file_extension": ".py",
   "mimetype": "text/x-python",
   "name": "python",
   "nbconvert_exporter": "python",
   "pygments_lexer": "ipython3",
   "version": "3.8.5"
  }
 },
 "nbformat": 4,
 "nbformat_minor": 4
}
